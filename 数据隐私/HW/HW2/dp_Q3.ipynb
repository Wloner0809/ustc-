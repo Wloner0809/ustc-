{
 "cells": [
  {
   "cell_type": "code",
   "execution_count": 2,
   "metadata": {},
   "outputs": [
    {
     "data": {
      "text/latex": [
       "$\\displaystyle 0.0212086771076074$"
      ],
      "text/plain": [
       "0.0212086771076074"
      ]
     },
     "execution_count": 2,
     "metadata": {},
     "output_type": "execute_result"
    }
   ],
   "source": [
    "import sympy as sp\n",
    "x = sp.Symbol('x')\n",
    "expression = sp.Eq(x*(200*sp.log(1/(9.9*10**(-8))))**0.5+100*x*(sp.exp(x)-1), 1.25)\n",
    "sp.nsolve(expression, 0)"
   ]
  }
 ],
 "metadata": {
  "kernelspec": {
   "display_name": "AIlearning",
   "language": "python",
   "name": "python3"
  },
  "language_info": {
   "codemirror_mode": {
    "name": "ipython",
    "version": 3
   },
   "file_extension": ".py",
   "mimetype": "text/x-python",
   "name": "python",
   "nbconvert_exporter": "python",
   "pygments_lexer": "ipython3",
   "version": "3.12.0"
  }
 },
 "nbformat": 4,
 "nbformat_minor": 2
}
