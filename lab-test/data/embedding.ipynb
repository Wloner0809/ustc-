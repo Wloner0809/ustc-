{
 "cells": [
  {
   "cell_type": "code",
   "execution_count": 1,
   "metadata": {},
   "outputs": [
    {
     "name": "stderr",
     "output_type": "stream",
     "text": [
      "Special tokens have been added in the vocabulary, make sure the associated word embeddings are fine-tuned or trained.\n"
     ]
    }
   ],
   "source": [
    "from transformers import AutoModelForCausalLM, AutoTokenizer\n",
    "import torch\n",
    "import os\n",
    "\n",
    "os.environ[\"CUDA_VISIBLE_DEVICES\"] = \"2\"\n",
    "base_model = \"/data/terencewang/qwen\"\n",
    "tokenizer = AutoTokenizer.from_pretrained(base_model)\n",
    "tokenizer.pad_token_id = 151644\n",
    "tokenizer.padding_side = \"left\"\n",
    "model = AutoModelForCausalLM.from_pretrained(\n",
    "    base_model,\n",
    "    torch_dtype=torch.bfloat16,\n",
    "    device_map=\"auto\",\n",
    ")\n",
    "model = model.to(\"cuda\")\n",
    "model.config.pad_token_id = 151644"
   ]
  },
  {
   "cell_type": "code",
   "execution_count": 7,
   "metadata": {},
   "outputs": [],
   "source": [
    "model.eval()\n",
    "f = open(\"./lds_test/data/item2id.txt\", \"r\")\n",
    "# the format of the item name file is\n",
    "# item_name item_id\n",
    "# A 0\n",
    "# B 1\n",
    "lines = f.readlines()\n",
    "f.close()\n",
    "text = [\n",
    "    _.split(\"\\t\")[0].strip(\" \").strip('\"') for _ in lines\n",
    "]  # remove the leading and trailing spaces and quotess make sure this preprocess is the same as the prediction"
   ]
  },
  {
   "cell_type": "code",
   "execution_count": 8,
   "metadata": {},
   "outputs": [
    {
     "name": "stderr",
     "output_type": "stream",
     "text": [
      "14239it [09:01, 26.31it/s]\n"
     ]
    }
   ],
   "source": [
    "from tqdm import tqdm\n",
    "\n",
    "\n",
    "def batch(list, batch_size=1):\n",
    "    chunk_size = (len(list) - 1) // batch_size + 1\n",
    "    for i in range(chunk_size):\n",
    "        yield list[batch_size * i : batch_size * (i + 1)]\n",
    "\n",
    "\n",
    "item_embedding = []\n",
    "for i, batch_input in tqdm(enumerate(batch(text, 1))):\n",
    "    input = tokenizer(batch_input, return_tensors=\"pt\", padding=True)\n",
    "    input_ids = input.input_ids.to(\"cuda\")\n",
    "    attention_mask = input.attention_mask.to(\"cuda\")\n",
    "    outputs = model(input_ids, attention_mask=attention_mask, output_hidden_states=True)\n",
    "    hidden_states = outputs.hidden_states\n",
    "    item_embedding.append(hidden_states[-1][:, -1, :].detach())\n",
    "    # break\n",
    "item_embedding = torch.cat(item_embedding, dim=0)\n",
    "torch.save(item_embedding, \"./lds_test/data/item_embedding_pad.pt\")"
   ]
  },
  {
   "cell_type": "code",
   "execution_count": 9,
   "metadata": {},
   "outputs": [
    {
     "data": {
      "text/plain": [
       "torch.Size([14239, 1024])"
      ]
     },
     "execution_count": 9,
     "metadata": {},
     "output_type": "execute_result"
    }
   ],
   "source": [
    "item_embedding.shape"
   ]
  }
 ],
 "metadata": {
  "kernelspec": {
   "display_name": "alpaca_lora",
   "language": "python",
   "name": "python3"
  },
  "language_info": {
   "codemirror_mode": {
    "name": "ipython",
    "version": 3
   },
   "file_extension": ".py",
   "mimetype": "text/x-python",
   "name": "python",
   "nbconvert_exporter": "python",
   "pygments_lexer": "ipython3",
   "version": "3.9.18"
  },
  "orig_nbformat": 4
 },
 "nbformat": 4,
 "nbformat_minor": 2
}
