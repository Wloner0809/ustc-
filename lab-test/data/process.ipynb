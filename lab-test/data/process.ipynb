{
 "cells": [
  {
   "cell_type": "code",
   "execution_count": 1,
   "metadata": {},
   "outputs": [],
   "source": [
    "import json\n",
    "import pandas as pd\n",
    "from tqdm import tqdm\n",
    "\n",
    "\n",
    "def csv_to_json(input_path, output_path, sample=False):\n",
    "    data = pd.read_csv(input_path)\n",
    "    if sample:\n",
    "        data = data.sample(n=5000, random_state=0).reset_index(drop=True)\n",
    "        data.to_csv(output_path[:-5] + \".csv\", index=False)\n",
    "    json_list = []\n",
    "    for index, row in tqdm(data.iterrows()):\n",
    "        row[\"history_item_title\"] = eval(row[\"history_item_title\"])\n",
    "        row[\"history_rating\"] = eval(row[\"history_rating\"])\n",
    "        L = len(row[\"history_item_title\"])\n",
    "        history = \"The user has listened to the following CDs and Vinyl before:\"\n",
    "        for i in range(L):\n",
    "            if i == 0:\n",
    "                history += '\"' + row[\"history_item_title\"][i] + '\"'\n",
    "            else:\n",
    "                history += ', \"' + row[\"history_item_title\"][i] + '\"'\n",
    "        target_movie = str(row[\"item_title\"])\n",
    "        target_movie_str = '\"' + target_movie + '\"'\n",
    "        json_list.append(\n",
    "            {\n",
    "                \"instruction\": \"Given a list of CDs and Vinyl the user has listened to before, please recommend a new CD or Vinyl that the user likes to the user.\",\n",
    "                \"input\": f\"{history}\\n \",\n",
    "                \"output\": target_movie_str,\n",
    "            }\n",
    "        )\n",
    "    with open(output_path, \"w\") as f:\n",
    "        json.dump(json_list, f, indent=4)"
   ]
  },
  {
   "cell_type": "code",
   "execution_count": 2,
   "metadata": {},
   "outputs": [
    {
     "name": "stderr",
     "output_type": "stream",
     "text": [
      "148684it [00:17, 8434.52it/s]\n",
      "18585it [00:02, 8383.32it/s]\n",
      "18586it [00:02, 7881.53it/s]\n",
      "5000it [00:00, 8700.99it/s]\n",
      "5000it [00:00, 8516.38it/s]\n"
     ]
    }
   ],
   "source": [
    "csv_to_json(\"/data/terencewang/lds_test/CD/train.csv\", \"./train.json\")\n",
    "csv_to_json(\"/data/terencewang/lds_test/CD/valid.csv\", \"./valid.json\")\n",
    "csv_to_json(\"/data/terencewang/lds_test/CD/test.csv\", \"./test.json\")\n",
    "csv_to_json(\"/data/terencewang/lds_test/CD/valid.csv\", \"./valid_5000.json\", sample=True)\n",
    "csv_to_json(\"/data/terencewang/lds_test/CD/test.csv\", \"./test_5000.json\", sample=True)"
   ]
  },
  {
   "cell_type": "code",
   "execution_count": 2,
   "metadata": {},
   "outputs": [
    {
     "name": "stderr",
     "output_type": "stream",
     "text": [
      "5000it [00:00, 6262.64it/s]\n"
     ]
    }
   ],
   "source": [
    "csv_to_json(\"./data/CD/test.csv\", \"./test_5000_new.json\", sample=True) # random seed 0"
   ]
  }
 ],
 "metadata": {
  "kernelspec": {
   "display_name": "unc",
   "language": "python",
   "name": "python3"
  },
  "language_info": {
   "codemirror_mode": {
    "name": "ipython",
    "version": 3
   },
   "file_extension": ".py",
   "mimetype": "text/x-python",
   "name": "python",
   "nbconvert_exporter": "python",
   "pygments_lexer": "ipython3",
   "version": "3.9.18"
  }
 },
 "nbformat": 4,
 "nbformat_minor": 2
}
